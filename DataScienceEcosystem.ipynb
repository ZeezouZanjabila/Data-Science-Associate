{
 "cells": [
  {
   "cell_type": "markdown",
   "id": "2c811c7c-f046-4a11-aefb-9db8b23d20c1",
   "metadata": {},
   "source": [
    "# Data Science Tools and Ecosystem"
   ]
  },
  {
   "cell_type": "markdown",
   "id": "06e6d20f-7e4e-44a5-bfbd-3ba77904b342",
   "metadata": {
    "jp-MarkdownHeadingCollapsed": true,
    "tags": []
   },
   "source": [
    "In this notebook, Data Science Tools and Ecosystem are summarized."
   ]
  },
  {
   "cell_type": "markdown",
   "id": "5d71fafd-9245-4fcd-9e1e-c08131f3efc7",
   "metadata": {},
   "source": [
    "**Objectives:**\n",
    "- List popular languages for Data Science.\n",
    "- List common libraries for Data Science.\n",
    "- List development environment open source tools used in data science\n",
    "- Write comments in a code box."
   ]
  },
  {
   "cell_type": "markdown",
   "id": "b8c4516f-3b41-413d-8537-cd7cbb0a7980",
   "metadata": {
    "tags": []
   },
   "source": [
    "Some of the popular languages that Data Scientists use are:\n",
    "    \n",
    "    1. Python\n",
    "    2. R\n",
    "    3. Julia\n",
    "    4. Java\n",
    "    5. JavaScript"
   ]
  },
  {
   "cell_type": "markdown",
   "id": "de1e29c5-4f4a-45aa-8d21-3567933b9808",
   "metadata": {},
   "source": [
    "Some of the commonly used libraries used by Data Scientists include:\n",
    "\n",
    "1. Pandas\n",
    "2. Scikit\n",
    "3. NumPy\n",
    "4. Scipy\n",
    "5. TensorFlow\n",
    "6. Scikit-Learn"
   ]
  },
  {
   "cell_type": "markdown",
   "id": "aaf4019f-0013-4b41-9e08-6a0ae02a5492",
   "metadata": {},
   "source": [
    "Data Science Tools |\n",
    "------------------ |\n",
    "Spyder |\n",
    "PyCharm |\n",
    "JupyterLab |"
   ]
  },
  {
   "cell_type": "markdown",
   "id": "55e19699-ede5-4368-bc3c-052744da16db",
   "metadata": {
    "tags": []
   },
   "source": [
    "### Below are a few examples of evaluating arithmetic expressions in Python"
   ]
  },
  {
   "cell_type": "code",
   "execution_count": 3,
   "id": "e8b75087-ca3e-429d-841d-872398f74254",
   "metadata": {
    "tags": []
   },
   "outputs": [
    {
     "data": {
      "text/plain": [
       "17"
      ]
     },
     "execution_count": 3,
     "metadata": {},
     "output_type": "execute_result"
    }
   ],
   "source": [
    "# This a simple arithmetic expression to mutiply then add integers\n",
    "(3*4)+5"
   ]
  },
  {
   "cell_type": "code",
   "execution_count": 4,
   "id": "da69b7e1-fe0c-40cd-b308-37a39151fd3a",
   "metadata": {
    "tags": []
   },
   "outputs": [
    {
     "data": {
      "text/plain": [
       "3.3333333333333335"
      ]
     },
     "execution_count": 4,
     "metadata": {},
     "output_type": "execute_result"
    }
   ],
   "source": [
    "# This will convert 200 minutes to hours by diving by 60\n",
    "200/60"
   ]
  },
  {
   "cell_type": "markdown",
   "id": "c046e9a0-548a-4223-8321-7b603c7faa5a",
   "metadata": {},
   "source": [
    "## Author\n",
    "Abdulazeez Olatinwo"
   ]
  },
  {
   "cell_type": "code",
   "execution_count": null,
   "id": "cb4c9882-98a2-4967-83ef-e06861ce2f48",
   "metadata": {},
   "outputs": [],
   "source": []
  }
 ],
 "metadata": {
  "kernelspec": {
   "display_name": "Python",
   "language": "python",
   "name": "conda-env-python-py"
  },
  "language_info": {
   "codemirror_mode": {
    "name": "ipython",
    "version": 3
   },
   "file_extension": ".py",
   "mimetype": "text/x-python",
   "name": "python",
   "nbconvert_exporter": "python",
   "pygments_lexer": "ipython3",
   "version": "3.7.12"
  }
 },
 "nbformat": 4,
 "nbformat_minor": 5
}
